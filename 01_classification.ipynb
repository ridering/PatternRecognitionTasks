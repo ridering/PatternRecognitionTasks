{
 "cells": [
  {
   "cell_type": "code",
   "execution_count": 1,
   "metadata": {},
   "outputs": [],
   "source": [
    "import torch\n",
    "import torch.nn as nn\n",
    "import torchvision.transforms as transforms\n",
    "import torchvision.datasets as datasets\n",
    "import matplotlib.pyplot as plt\n",
    "import random\n",
    "import numpy as np\n",
    "\n",
    "import ranger21"
   ]
  },
  {
   "cell_type": "code",
   "execution_count": 2,
   "metadata": {},
   "outputs": [],
   "source": [
    "my_seed = 2 ** 27 - 15\n",
    "random.seed(my_seed)\n",
    "np.random.seed(my_seed)\n",
    "torch.manual_seed(my_seed);"
   ]
  },
  {
   "cell_type": "code",
   "execution_count": 3,
   "metadata": {},
   "outputs": [],
   "source": [
    "transform = transforms.Compose([\n",
    "    transforms.Resize((256, 256)),\n",
    "    transforms.ToTensor(),\n",
    "])"
   ]
  },
  {
   "cell_type": "code",
   "execution_count": 4,
   "metadata": {},
   "outputs": [],
   "source": [
    "data = datasets.ImageFolder(\n",
    "    '12. Animal Image Dataset(DOG, CAT and PANDA)/animals',\n",
    "    transform)"
   ]
  },
  {
   "cell_type": "code",
   "execution_count": 5,
   "metadata": {},
   "outputs": [],
   "source": [
    "transformers = torch.nn.Sequential(\n",
    "    transforms.RandomHorizontalFlip(0.5),\n",
    "    transforms.RandomRotation(10),\n",
    "    transforms.RandomPerspective(distortion_scale=0.6, p=0.5),\n",
    "    transforms.ColorJitter(0.5, 0.3),\n",
    ")\n",
    "scripted_transforms = torch.jit.script(transformers)"
   ]
  },
  {
   "cell_type": "code",
   "execution_count": 6,
   "metadata": {},
   "outputs": [],
   "source": [
    "train_data, val_data = torch.utils.data.random_split(data, [0.9, 0.1])"
   ]
  },
  {
   "cell_type": "code",
   "execution_count": 7,
   "metadata": {},
   "outputs": [],
   "source": [
    "batch_size = 32\n",
    "\n",
    "train_dataloader = torch.utils.data.DataLoader(\n",
    "    train_data, batch_size=batch_size, shuffle=True)\n",
    "\n",
    "val_dataloader = torch.utils.data.DataLoader(\n",
    "    val_data, batch_size=batch_size, shuffle=True)"
   ]
  },
  {
   "cell_type": "code",
   "execution_count": 8,
   "metadata": {},
   "outputs": [
    {
     "name": "stdout",
     "output_type": "stream",
     "text": [
      "cuda:0\n"
     ]
    }
   ],
   "source": [
    "device = torch.device(\"cuda:0\" if torch.cuda.is_available() else \"cpu\")\n",
    "print(device)"
   ]
  },
  {
   "cell_type": "code",
   "execution_count": 9,
   "metadata": {},
   "outputs": [],
   "source": [
    "class ResidualBlock(nn.Module):\n",
    "    def __init__(self, in_channels, out_channels, stride = 1, downsample = None):\n",
    "        super(ResidualBlock, self).__init__()\n",
    "        self.conv1 = nn.Sequential(\n",
    "                        nn.Conv2d(in_channels, out_channels, kernel_size = 3, stride = stride, padding = 1),\n",
    "                        nn.BatchNorm2d(out_channels),\n",
    "                        nn.Mish(),\n",
    "                        nn.Dropout(0.3))\n",
    "        self.conv2 = nn.Sequential(\n",
    "                        nn.Conv2d(out_channels, out_channels, kernel_size = 3, stride = 1, padding = 1),\n",
    "                        nn.BatchNorm2d(out_channels))\n",
    "        self.dropout = nn.Dropout(0.3)\n",
    "        self.downsample = downsample\n",
    "        self.mish = nn.Mish()\n",
    "        self.out_channels = out_channels\n",
    "        \n",
    "    def forward(self, x):\n",
    "        residual = x\n",
    "        out = self.conv1(x)\n",
    "        out = self.conv2(out)\n",
    "        if self.downsample:\n",
    "            residual = self.downsample(x)\n",
    "        out += residual\n",
    "        out = self.mish(out)\n",
    "        out = self.dropout(out)\n",
    "\n",
    "        return out"
   ]
  },
  {
   "cell_type": "code",
   "execution_count": 10,
   "metadata": {},
   "outputs": [],
   "source": [
    "class ResNet(nn.Module):\n",
    "    def __init__(self, block, layers, num_classes = 10):\n",
    "        super(ResNet, self).__init__()\n",
    "        self.inplanes = 64\n",
    "        self.conv1 = nn.Sequential(\n",
    "                        nn.Conv2d(3, 64, kernel_size = 7, stride = 2, padding = 3),\n",
    "                        nn.BatchNorm2d(64),\n",
    "                        nn.Mish())\n",
    "        self.maxpool = nn.MaxPool2d(kernel_size = 3, stride = 2, padding = 1)\n",
    "        self.layer0 = self._make_layer(block, 64, layers[0], stride = 1)\n",
    "        self.layer1 = self._make_layer(block, 128, layers[1], stride = 2)\n",
    "        self.layer2 = self._make_layer(block, 256, layers[2], stride = 2)\n",
    "        self.layer3 = self._make_layer(block, 512, layers[3], stride = 2)\n",
    "        self.layer4  = self._make_layer(block, 1024, layers[4], stride = 2)\n",
    "        self.avgpool = nn.AvgPool2d(2, stride=1)\n",
    "        self.fc1 = nn.Linear(9216, 512)\n",
    "        self.fc2 = nn.Linear(512, num_classes)\n",
    "        self.mish = nn.Mish()\n",
    "        self.dropout = nn.Dropout(0.3)\n",
    "        \n",
    "    def _make_layer(self, block, planes, blocks, stride=1):\n",
    "        downsample = None\n",
    "        if stride != 1 or self.inplanes != planes:\n",
    "            downsample = nn.Sequential(\n",
    "                nn.Conv2d(self.inplanes, planes, kernel_size=1, stride=stride),\n",
    "                nn.BatchNorm2d(planes),\n",
    "            )\n",
    "        layers = []\n",
    "        layers.append(block(self.inplanes, planes, stride, downsample))\n",
    "        self.inplanes = planes\n",
    "        for i in range(1, blocks):\n",
    "            layers.append(block(self.inplanes, planes))\n",
    "\n",
    "        return nn.Sequential(*layers)\n",
    "    \n",
    "    \n",
    "    def forward(self, x):\n",
    "        if self.training:\n",
    "            x = scripted_transforms(x)\n",
    "        x = self.conv1(x)\n",
    "        x = self.maxpool(x)\n",
    "        x = self.layer0(x)\n",
    "        x = self.layer1(x)\n",
    "        x = self.layer2(x)\n",
    "        x = self.layer3(x)\n",
    "        x = self.layer4(x)\n",
    "\n",
    "        x = self.avgpool(x)\n",
    "        x = x.view(x.size(0), -1)\n",
    "        x = self.fc1(x)\n",
    "        x = self.mish(x)\n",
    "        x = self.dropout(x)\n",
    "        x = self.fc2(x)\n",
    "\n",
    "        return x"
   ]
  },
  {
   "cell_type": "code",
   "execution_count": 13,
   "metadata": {},
   "outputs": [
    {
     "name": "stdout",
     "output_type": "stream",
     "text": [
      "Ranger21 optimizer ready with following settings:\n",
      "\n",
      "Core optimizer = AdamW\n",
      "Learning rate of 0.0005\n",
      "\n",
      "Important - num_epochs of training = ** 200 epochs **\n",
      "please confirm this is correct or warmup and warmdown will be off\n",
      "\n",
      "Warm-up: linear warmup, over 2000 iterations\n",
      "\n",
      "Lookahead active, merging every 5 steps, with blend factor of 0.5\n",
      "Norm Loss active, factor = 0.0001\n",
      "Stable weight decay of 0.0001\n",
      "Gradient Centralization = On\n",
      "\n",
      "Adaptive Gradient Clipping = True\n",
      "\tclipping value of 0.01\n",
      "\tsteps for clipping = 0.001\n",
      "\n",
      "Warm-down: Linear warmdown, starting at 72.0%, iteration 12240 of 17000\n",
      "warm down will decay until 3e-05 lr\n"
     ]
    }
   ],
   "source": [
    "num_classes = 3\n",
    "num_epochs = 200\n",
    "learning_rate = 5e-4\n",
    "\n",
    "model = ResNet(ResidualBlock, [3, 4, 6, 4, 3], 3).to(device)\n",
    "\n",
    "total_step = len(train_dataloader)\n",
    "\n",
    "criterion = nn.CrossEntropyLoss()\n",
    "optimizer = ranger21.Ranger21(model.parameters(), lr=learning_rate, num_epochs=num_epochs, num_batches_per_epoch=total_step)"
   ]
  },
  {
   "cell_type": "code",
   "execution_count": 12,
   "metadata": {},
   "outputs": [],
   "source": [
    "checkpoint = torch.load('saved_models/95.pt')\n",
    "model.load_state_dict(checkpoint['model_state_dict'])\n",
    "optimizer.load_state_dict(checkpoint['optimizer_state_dict'])\n",
    "start_epoch = checkpoint['epoch']\n",
    "loss = checkpoint['loss']\n",
    "acc = checkpoint['val_acc']"
   ]
  },
  {
   "cell_type": "code",
   "execution_count": 14,
   "metadata": {},
   "outputs": [],
   "source": [
    "acc = 0\n",
    "start_epoch = 0"
   ]
  },
  {
   "cell_type": "code",
   "execution_count": 15,
   "metadata": {},
   "outputs": [
    {
     "name": "stdout",
     "output_type": "stream",
     "text": [
      "params size saved\n",
      "total param groups = 1\n",
      "total params in groups = 184\n",
      "Epoch [190/200]\n",
      "\tLoss: 0.00001     TrainAcc: 96.778 %     ValAcc: 94.667 %\n",
      "Epoch [191/200]\n",
      "\tLoss: 0.00001     TrainAcc: 96.926 %     ValAcc: 95.000 %\n",
      "Epoch [192/200]\n",
      "\tLoss: 0.00004     TrainAcc: 96.926 %     ValAcc: 95.000 %\n",
      "Epoch [193/200]\n",
      "\tLoss: 0.00225     TrainAcc: 96.741 %     ValAcc: 93.667 %\n",
      "Epoch [194/200]\n",
      "\tLoss: 0.00001     TrainAcc: 97.333 %     ValAcc: 94.000 %\n",
      "Epoch [195/200]\n",
      "\tLoss: 0.00116     TrainAcc: 97.407 %     ValAcc: 95.000 %\n",
      "Epoch [196/200]\n",
      "\tLoss: 0.42029     TrainAcc: 97.296 %     ValAcc: 94.667 %\n",
      "Epoch [197/200]\n",
      "\tLoss: 0.03648     TrainAcc: 97.148 %     ValAcc: 94.000 %\n",
      "Epoch [198/200]\n",
      "\tLoss: 0.00001     TrainAcc: 97.000 %     ValAcc: 95.000 %\n",
      "Epoch [199/200]\n",
      "\tLoss: 0.00000     TrainAcc: 96.704 %     ValAcc: 95.000 %\n",
      "Epoch [200/200]\n",
      "\tLoss: 0.01097     TrainAcc: 97.074 %     ValAcc: 94.667 %\n"
     ]
    }
   ],
   "source": [
    "# Эта ячейка запускалась несколько раз и до этого здесь были 190 эпох, \n",
    "# которые не сохранились\n",
    "\n",
    "train_acc, test_acc, best_acc = 0, 0, 0\n",
    "best_acc = acc\n",
    "\n",
    "for epoch in range(start_epoch, num_epochs):\n",
    "    correct = 0\n",
    "    total = 0\n",
    "    model.train()\n",
    "    for i, (images, labels) in enumerate(train_dataloader):\n",
    "        # Move tensors to the configured device\n",
    "        images = images.to(device)\n",
    "        labels = labels.to(device)\n",
    "\n",
    "        # Forward pass\n",
    "        outputs = model(images)\n",
    "        loss = criterion(outputs, labels)\n",
    "\n",
    "        _, predicted = torch.max(outputs.data, 1)\n",
    "        total += labels.size(0)\n",
    "        correct += (predicted == labels).sum().item()\n",
    "\n",
    "        # Backward and optimize\n",
    "        optimizer.zero_grad()\n",
    "        loss.backward()\n",
    "        optimizer.step()\n",
    "\n",
    "    train_acc = correct / total * 100\n",
    "    print ('Epoch [{}/{}]\\n\\tLoss: {:.5f}     TrainAcc: {:.3f} %'\n",
    "                   .format(epoch+1, num_epochs, loss.item(), 100 * correct / total), end='     ')\n",
    "\n",
    "    # Validation\n",
    "    with torch.no_grad():\n",
    "        model.eval()\n",
    "        correct = 0\n",
    "        total = 0\n",
    "        for images, labels in val_dataloader:\n",
    "            images = images.to(device)\n",
    "            labels = labels.to(device)\n",
    "            outputs = model(images)\n",
    "            _, predicted = torch.max(outputs.data, 1)\n",
    "            total += labels.size(0)\n",
    "            correct += (predicted == labels).sum().item()\n",
    "\n",
    "        val_acc = correct / total * 100\n",
    "        print('ValAcc: {:.3f} %'.format(100 * correct / total))\n",
    "\n",
    "    if epoch > 20 and val_acc > best_acc:\n",
    "        best_acc = val_acc\n",
    "        torch.save(\n",
    "            {\n",
    "                'epoch': epoch,\n",
    "                'model_state_dict': model.state_dict(),\n",
    "                'optimizer_state_dict': optimizer.state_dict(),\n",
    "                'loss': loss,\n",
    "                'train_acc': train_acc,\n",
    "                'val_acc': val_acc,\n",
    "            },\n",
    "            f'./saved_models/best.pt',\n",
    "        )\n",
    "    if (epoch + 1) % 5 == 0:\n",
    "        torch.save(\n",
    "            {\n",
    "                'epoch': epoch,\n",
    "                'model_state_dict': model.state_dict(),\n",
    "                'optimizer_state_dict': optimizer.state_dict(),\n",
    "                'loss': loss,\n",
    "                'train_acc': train_acc,\n",
    "                'val_acc': val_acc,\n",
    "            },\n",
    "            f'./saved_models/last.pt',\n",
    "        )"
   ]
  },
  {
   "cell_type": "code",
   "execution_count": null,
   "metadata": {},
   "outputs": [
    {
     "data": {
      "image/png": "[encoded data removed]",
      "text/plain": [
       "<Figure size 640x480 with 1 Axes>"
      ]
     },
     "metadata": {},
     "output_type": "display_data"
    }
   ],
   "source": [
    "optimizer.show_schedule()"
   ]
  }
 ],
 "metadata": {
  "kernelspec": {
   "display_name": ".venv",
   "language": "python",
   "name": "python3"
  },
  "language_info": {
   "codemirror_mode": {
    "name": "ipython",
    "version": 3
   },
   "file_extension": ".py",
   "mimetype": "text/x-python",
   "name": "python",
   "nbconvert_exporter": "python",
   "pygments_lexer": "ipython3",
   "version": "3.11.1"
  }
 },
 "nbformat": 4,
 "nbformat_minor": 2
}
